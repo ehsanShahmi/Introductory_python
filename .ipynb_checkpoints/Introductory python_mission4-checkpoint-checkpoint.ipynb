{
 "cells": [
  {
   "cell_type": "markdown",
   "metadata": {},
   "source": [
    "# Welcome \n",
    "\n",
    "This is mission 4 from dataquest : https://www.dataquest.io/mission/4/introduction-to-functions"
   ]
  },
  {
   "cell_type": "markdown",
   "metadata": {},
   "source": [
    "#### Read the file dictionary.txt into a string variable named vocabulary.\n",
    "#### Then, display vocabulary using the print() function."
   ]
  },
  {
   "cell_type": "code",
   "execution_count": 4,
   "metadata": {
    "collapsed": false
   },
   "outputs": [
    {
     "name": "stdout",
     "output_type": "stream",
     "text": [
      "\"a about after almost along alternating an and anguish around at back ball became best but buy came cold come crop crazy curled day days decided decided eat even ever everyone farmer farmer find finest for found freezing farmer gave go going great grow growing guidance had hard he heat him his if immediately in into it journey julius juliuss keep knew last long magic managed many much months named never night noble noon of on once one out people persevered potatoes probably praises raining reggie roadside sang searing secret seek seen set shouldnt sign sky sleep so soaked started stopped store storekeeper that the there this to told travelled trees tried try umbrella underneath undeterred village was were who whole wondered world\"\n"
     ]
    }
   ],
   "source": [
    "vocabulary = open(\"dictionary.txt\",\"r\").read()\n",
    "\n",
    "print(vocabulary)"
   ]
  },
  {
   "cell_type": "markdown",
   "metadata": {},
   "source": [
    "#### Use the string method split() to split vocabulary on the whitespace character (\" \").\n",
    "#### Assign the resulting list to tokenized_vocabulary.\n",
    "#### Display the first five elements in tokenized_vocabulary."
   ]
  },
  {
   "cell_type": "code",
   "execution_count": 5,
   "metadata": {
    "collapsed": false
   },
   "outputs": [
    {
     "name": "stdout",
     "output_type": "stream",
     "text": [
      "['\"a', 'about', 'after', 'almost', 'along']\n"
     ]
    }
   ],
   "source": [
    "vocabulary = open(\"dictionary.txt\", \"r\").read()\n",
    "\n",
    "tokenized_vocabulary = vocabulary.split(\" \")\n",
    "print(tokenized_vocabulary[0:5])"
   ]
  },
  {
   "cell_type": "markdown",
   "metadata": {},
   "source": [
    "We've read story.txt into the string story_string, and used the replace() method to remove all periods (.) and commas (,). Next, add code that removes single quotes ('), semi-colons (;), and newline characters (\"\\n\")."
   ]
  },
  {
   "cell_type": "code",
   "execution_count": 16,
   "metadata": {
    "collapsed": false
   },
   "outputs": [
    {
     "name": "stdout",
     "output_type": "stream",
     "text": [
      "There was once a great and noble frmer named Julius  He was the best farmer in his village and prabably even the whole world  One day he decidid to grw potatoes Julius knew that potatoes were hard to grow so he kniw he hd to goe to the magic farmer in the sky to seek his guidance  Julius set out on his journey aroudn noon one day  It started raining almosty immediately Julius wondered if this was a sign that he shouldnt go on but he perserved  He became soaked and stoped in the store to buy an umbrella  He told the storekeeper Reggie about his journey Reggie told him that he was crzy to seek out the magic farmer the last 10 people to try to find him had never come back  Julius was undetered and decided to keep going He travelled many long days in alternatng searing heat and freezing cold  At night he curled into a ball and tried to sleep underneath trees along the roadside After mich anguish Julius found the magic farmer who gave him the secret of growing potatoes Julius came back to the village and managed to grow the finest crop the village had ever seen  Everyone had potatoes to eat for months and sang Juliuss praises\n"
     ]
    }
   ],
   "source": [
    "f = open(\"story.txt\", 'r')\n",
    "story_string = f.read()\n",
    "\n",
    "#print(story_string)\n",
    "story_string = story_string.replace(\"\\n\",\"\")\n",
    "story_string = story_string.replace(\".\",\"\")\n",
    "story_string = story_string.replace(\",\",\"\")\n",
    "story_string = story_string.replace(\"'\",\"\")\n",
    "story_string = story_string.replace(\";\",\"\")\n",
    "\n",
    "print(story_string)"
   ]
  },
  {
   "cell_type": "markdown",
   "metadata": {},
   "source": [
    "#### Finish the clean_text() function by adding in code that:\n",
    "    Replaces all periods (.) in cleaned_string with blank spaces, and assigns the resulting string object to cleaned_string.\n",
    "    Replaces all commas (,) in cleaned_string with blank spaces, and assigns the resulting string object to cleaned_string\n",
    "    Replaces all single quotes (') in cleaned_string with blank spaces, and assigns the resulting string object to cleaned_string\n",
    "    Replaces all semi-colons (;) in cleaned_string with blank spaces, and assigns the resulting string object to cleaned_string\n",
    "    Replaces all newline characters (\"\\n\") in cleaned_string with blank spaces, and assigns the resulting string object to cleaned_string\n",
    "    Returns cleaned_string\n",
    "#### Once you've completed the clean_text() function:\n",
    "    Call the clean_text() function.\n",
    "    Pass in story_string.\n",
    "    Assign the result to cleaned_story."
   ]
  },
  {
   "cell_type": "code",
   "execution_count": 17,
   "metadata": {
    "collapsed": false
   },
   "outputs": [
    {
     "name": "stdout",
     "output_type": "stream",
     "text": [
      "There was once a great and noble frmer named Julius  He was the best farmer in his village and prabably even the whole world  One day he decidid to grw potatoes Julius knew that potatoes were hard to grow so he kniw he hd to goe to the magic farmer in the sky to seek his guidance  Julius set out on his journey aroudn noon one day  It started raining almosty immediately Julius wondered if this was a sign that he shouldnt go on but he perserved  He became soaked and stoped in the store to buy an umbrella  He told the storekeeper Reggie about his journey Reggie told him that he was crzy to seek out the magic farmer the last 10 people to try to find him had never come back  Julius was undetered and decided to keep going He travelled many long days in alternatng searing heat and freezing cold  At night he curled into a ball and tried to sleep underneath trees along the roadside After mich anguish Julius found the magic farmer who gave him the secret of growing potatoes Julius came back to the village and managed to grow the finest crop the village had ever seen  Everyone had potatoes to eat for months and sang Juliuss praises\n"
     ]
    }
   ],
   "source": [
    "f = open(\"story.txt\", 'r')\n",
    "story_string = f.read()\n",
    "\n",
    "def clean_text(text_string):\n",
    "    cleaned_string = text_string.replace(\".\",\"\")\n",
    "    cleaned_string = cleaned_string.replace(\",\",\"\")\n",
    "    cleaned_string = cleaned_string.replace(\";\",\"\")\n",
    "    cleaned_string = cleaned_string.replace(\"'\",\"\")\n",
    "    cleaned_string = cleaned_string.replace(\"\\n\",\"\")\n",
    "    return (cleaned_string)\n",
    "\n",
    "cleaned_story = clean_text(story_string)\n",
    "print(cleaned_story)"
   ]
  },
  {
   "cell_type": "markdown",
   "metadata": {},
   "source": [
    "#### Modify the clean_text() function so that it converts cleaned_string to lowercase before returning it."
   ]
  },
  {
   "cell_type": "code",
   "execution_count": 20,
   "metadata": {
    "collapsed": false
   },
   "outputs": [
    {
     "name": "stdout",
     "output_type": "stream",
     "text": [
      "there was once a great and noble frmer named julius  he was the best farmer in his village and prabably even the whole world  one day he decidid to grw potatoes julius knew that potatoes were hard to grow so he kniw he hd to goe to the magic farmer in the sky to seek his guidance  julius set out on his journey aroudn noon one day  it started raining almosty immediately julius wondered if this was a sign that he shouldnt go on but he perserved  he became soaked and stoped in the store to buy an umbrella  he told the storekeeper reggie about his journey reggie told him that he was crzy to seek out the magic farmer the last 10 people to try to find him had never come back  julius was undetered and decided to keep going he travelled many long days in alternatng searing heat and freezing cold  at night he curled into a ball and tried to sleep underneath trees along the roadside after mich anguish julius found the magic farmer who gave him the secret of growing potatoes julius came back to the village and managed to grow the finest crop the village had ever seen  everyone had potatoes to eat for months and sang juliuss praises\n"
     ]
    }
   ],
   "source": [
    "def clean_text(text_string):\n",
    "    cleaned_string = text_string.replace(\",\",\"\")\n",
    "    cleaned_string = cleaned_string.replace(\".\",\"\")\n",
    "    cleaned_string = cleaned_string.replace(\"'\", \"\")\n",
    "    cleaned_string = cleaned_string.replace(\";\", \"\")\n",
    "    cleaned_string = cleaned_string.replace(\"\\n\", \"\")\n",
    "    cleaned_string = cleaned_string.lower()\n",
    "    return(cleaned_string)\n",
    "cleaned_story = clean_text(story_string)\n",
    "print(cleaned_story)"
   ]
  },
  {
   "cell_type": "markdown",
   "metadata": {},
   "source": [
    "#### Modify the clean_text() function below in the following ways:\n",
    "    Add another argument called special_characters.\n",
    "    Modify the function body so that it loops over all special_characters that are punctuation marks, and removes each one:\n",
    "        Assign the input variable text_string to cleaned_string.\n",
    "        Write a for loop that:\n",
    "            Iterates over the input variable special_characters.\n",
    "            Uses replace() to remove all of the instances of the current special character in cleaned_string.\n",
    "        Outside the loop, use lower() to make all the text in cleaned_string lowercase, and then return it.\n",
    "    Once you've written the function, run clean_text():\n",
    "        Pass in story_string as the first argument.\n",
    "        Pass in clean_chars as the second argument.\n",
    "        Assign the result to cleaned_story.\n",
    "    Print cleaned_story."
   ]
  },
  {
   "cell_type": "code",
   "execution_count": 21,
   "metadata": {
    "collapsed": false
   },
   "outputs": [
    {
     "name": "stdout",
     "output_type": "stream",
     "text": [
      "there was once a great and noble frmer named julius  he was the best farmer in his village and prabably even the whole world  one day he decidid to grw potatoes julius knew that potatoes were hard to grow so he kniw he hd to goe to the magic farmer in the sky to seek his guidance  julius set out on his journey aroudn noon one day  it started raining almosty immediately julius wondered if this was a sign that he shouldnt go on but he perserved  he became soaked and stoped in the store to buy an umbrella  he told the storekeeper reggie about his journey reggie told him that he was crzy to seek out the magic farmer the last 10 people to try to find him had never come back  julius was undetered and decided to keep going he travelled many long days in alternatng searing heat and freezing cold  at night he curled into a ball and tried to sleep underneath trees along the roadside after mich anguish julius found the magic farmer who gave him the secret of growing potatoes julius came back to the village and managed to grow the finest crop the village had ever seen  everyone had potatoes to eat for months and sang juliuss praises\n"
     ]
    }
   ],
   "source": [
    "f = open(\"story.txt\", 'r')\n",
    "story_string = f.read()\n",
    "clean_chars = [\",\", \".\", \"'\", \";\", \"\\n\"]\n",
    "\n",
    "# Previous code for clean_text().\n",
    "def clean_text(text_string, special_characters):\n",
    "    cleaned_string = text_string\n",
    "    for each in special_characters:\n",
    "        cleaned_string = cleaned_string.replace(each,\"\")\n",
    "    cleaned_string = cleaned_string.lower()\n",
    "    return(cleaned_string)\n",
    "\n",
    "cleaned_story = \"\"\n",
    "cleaned_story = clean_text(story_string, clean_chars)\n",
    "print(cleaned_story)"
   ]
  },
  {
   "cell_type": "markdown",
   "metadata": {},
   "source": [
    "### Create a new function called tokenize():\n",
    "#### Include the following arguments:\n",
    "    text_string - First argument, for the string we want to clean and tokenize\n",
    "    special_characters - Second argument, for the list of strings representing the special characters we want to replace\n",
    "#### In the function body:\n",
    "    Clean text_string by calling the clean_text() function, and assign the result to cleaned_story.\n",
    "    Tokenize cleaned_story by splitting on a single whitespace character (\" \"), and assign the resulting list to story_tokens.\n",
    "    Return story_tokens.\n",
    "    \n",
    "### After you've created the tokenize() function:\n",
    "#### Call the tokenize() function. Pass in story_string as the first argument and clean_chars as the second argument.\n",
    "#### Assign the result to tokenized_story.\n",
    "#### Finally, print the first 10 values in tokenized_story."
   ]
  },
  {
   "cell_type": "code",
   "execution_count": 22,
   "metadata": {
    "collapsed": false
   },
   "outputs": [
    {
     "name": "stdout",
     "output_type": "stream",
     "text": [
      "['there', 'was', 'once', 'a', 'great', 'and', 'noble', 'frmer', 'named', 'julius']\n"
     ]
    }
   ],
   "source": [
    "def clean_text(text_string, special_characters):\n",
    "    cleaned_string = text_string\n",
    "    for string in special_characters:\n",
    "        cleaned_string = cleaned_string.replace(string, \"\")\n",
    "    cleaned_string = cleaned_string.lower()\n",
    "    return(cleaned_string)\n",
    "\n",
    "clean_chars = [\",\", \".\", \"'\", \";\", \"\\n\"]\n",
    "cleaned_story = clean_text(story_string, clean_chars)\n",
    "\n",
    "def tokenize(text_string, special_characters):\n",
    "    cleaned_story = clean_text(text_string, clean_chars)\n",
    "    story_tokens = cleaned_story.split(\" \")\n",
    "    return(story_tokens)\n",
    "\n",
    "tokenized_story = tokenize(story_string, clean_chars)\n",
    "print(tokenized_story[0:10])"
   ]
  },
  {
   "cell_type": "markdown",
   "metadata": {},
   "source": [
    "#### Create an empty list named misspelled_words.\n",
    "#### Write a for loop that:\n",
    "    Iterates over tokenized_story.\n",
    "    Uses an if statement that evaluates whether the current token is in tokenized_vocabulary and if it isn't, appends the current token to misspelled_words.\n",
    "#### Print misspelled_words."
   ]
  },
  {
   "cell_type": "code",
   "execution_count": 23,
   "metadata": {
    "collapsed": false
   },
   "outputs": [
    {
     "name": "stdout",
     "output_type": "stream",
     "text": [
      "['a', 'frmer', '', 'prabably', 'world', '', 'decidid', 'grw', 'kniw', 'hd', 'goe', '', 'aroudn', '', 'almosty', 'a', 'perserved', '', 'stoped', '', 'crzy', '10', '', 'undetered', 'alternatng', '', 'a', 'mich', '']\n"
     ]
    }
   ],
   "source": [
    "def clean_text(text_string, special_characters):\n",
    "    cleaned_string = text_string\n",
    "    for string in special_characters:\n",
    "        cleaned_string = cleaned_string.replace(string, \"\")\n",
    "    cleaned_string = cleaned_string.lower()\n",
    "    return(cleaned_string)\n",
    "\n",
    "def tokenize(text_string, special_characters):\n",
    "    cleaned_story = clean_text(text_string, special_characters)\n",
    "    story_tokens = cleaned_story.split(\" \")\n",
    "    return(story_tokens)\n",
    "\n",
    "misspelled_words = []\n",
    "clean_chars = [\",\", \".\", \"'\", \";\", \"\\n\"]\n",
    "tokenized_story = tokenize(story_string, clean_chars)\n",
    "tokenized_vocabulary = tokenize(vocabulary, clean_chars)\n",
    "\n",
    "for token in tokenized_story:\n",
    "    if ( (token in tokenized_vocabulary)== False ):\n",
    "        misspelled_words.append(token)\n",
    "        \n",
    "print(misspelled_words)"
   ]
  },
  {
   "cell_type": "markdown",
   "metadata": {},
   "source": [
    "## THIS IS THE END 8-)"
   ]
  },
  {
   "cell_type": "code",
   "execution_count": null,
   "metadata": {
    "collapsed": true
   },
   "outputs": [],
   "source": []
  }
 ],
 "metadata": {
  "kernelspec": {
   "display_name": "Python 3",
   "language": "python",
   "name": "python3"
  },
  "language_info": {
   "codemirror_mode": {
    "name": "ipython",
    "version": 3
   },
   "file_extension": ".py",
   "mimetype": "text/x-python",
   "name": "python",
   "nbconvert_exporter": "python",
   "pygments_lexer": "ipython3",
   "version": "3.6.0"
  }
 },
 "nbformat": 4,
 "nbformat_minor": 2
}
