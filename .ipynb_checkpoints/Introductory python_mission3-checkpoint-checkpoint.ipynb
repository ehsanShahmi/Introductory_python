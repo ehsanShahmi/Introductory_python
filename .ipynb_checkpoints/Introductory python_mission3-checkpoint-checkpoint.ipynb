{
 "cells": [
  {
   "cell_type": "markdown",
   "metadata": {},
   "source": [
    "# Welcome \n",
    "\n",
    "This is mission 3 from dataquest : https://www.dataquest.io/mission/3/list-operations"
   ]
  },
  {
   "cell_type": "markdown",
   "metadata": {},
   "source": [
    "#### open and read in la_weather.csv.\n",
    "#### Split the data on the newline character to convert it to a list of rows.\n",
    "#### Split each row on the comma and append each list to weather_data."
   ]
  },
  {
   "cell_type": "code",
   "execution_count": 3,
   "metadata": {
    "collapsed": false
   },
   "outputs": [
    {
     "name": "stdout",
     "output_type": "stream",
     "text": [
      "[['Day', 'Type of Weather'], ['1', 'Sunny'], ['2', 'Sunny'], ['3', 'Sunny'], ['4', 'Sunny'], ['5', 'Sunny'], ['6', 'Rain'], ['7', 'Sunny'], ['8', 'Sunny'], ['9', 'Fog'], ['10', 'Rain'], ['11', 'Sunny'], ['12', 'Sunny'], ['13', 'Sunny'], ['14', 'Sunny'], ['15', 'Sunny'], ['16', 'Fog'], ['17', 'Sunny'], ['18', 'Sunny'], ['19', 'Sunny'], ['20', 'Sunny'], ['21', 'Sunny'], ['22', 'Sunny'], ['23', 'Rain'], ['24', 'Fog-Rain'], ['25', 'Rain'], ['26', 'Fog-Rain'], ['27', 'Rain'], ['28', 'Sunny'], ['29', 'Sunny'], ['30', 'Sunny'], ['31', 'Sunny'], ['32', 'Sunny'], ['33', 'Rain'], ['34', 'Sunny'], ['35', 'Fog'], ['36', 'Fog'], ['37', 'Sunny'], ['38', 'Sunny'], ['39', 'Rain'], ['40', 'Sunny'], ['41', 'Sunny'], ['42', 'Sunny'], ['43', 'Sunny'], ['44', 'Sunny'], ['45', 'Fog'], ['46', 'Sunny'], ['47', 'Sunny'], ['48', 'Fog'], ['49', 'Sunny'], ['50', 'Rain'], ['51', 'Sunny'], ['52', 'Sunny'], ['53', 'Sunny'], ['54', 'Sunny'], ['55', 'Sunny'], ['56', 'Sunny'], ['57', 'Sunny'], ['58', 'Sunny'], ['59', 'Sunny'], ['60', 'Sunny'], ['61', 'Sunny'], ['62', 'Rain'], ['63', 'Fog'], ['64', 'Fog'], ['65', 'Sunny'], ['66', 'Rain'], ['67', 'Rain'], ['68', 'Sunny'], ['69', 'Sunny'], ['70', 'Sunny'], ['71', 'Fog'], ['72', 'Fog'], ['73', 'Fog'], ['74', 'Fog'], ['75', 'Fog'], ['76', 'Sunny'], ['77', 'Sunny'], ['78', 'Sunny'], ['79', 'Sunny'], ['80', 'Sunny'], ['81', 'Fog'], ['82', 'Sunny'], ['83', 'Sunny'], ['84', 'Fog'], ['85', 'Sunny'], ['86', 'Fog'], ['87', 'Fog'], ['88', 'Fog'], ['89', 'Fog'], ['90', 'Rain'], ['91', 'Sunny'], ['92', 'Fog'], ['93', 'Fog'], ['94', 'Fog'], ['95', 'Sunny'], ['96', 'Sunny'], ['97', 'Sunny'], ['98', 'Sunny'], ['99', 'Fog'], ['100', 'Sunny'], ['101', 'Sunny'], ['102', 'Sunny'], ['103', 'Sunny'], ['104', 'Sunny'], ['105', 'Rain'], ['106', 'Sunny'], ['107', 'Sunny'], ['108', 'Sunny'], ['109', 'Sunny'], ['110', 'Fog'], ['111', 'Fog'], ['112', 'Fog'], ['113', 'Sunny'], ['114', 'Rain'], ['115', 'Sunny'], ['116', 'Sunny'], ['117', 'Sunny'], ['118', 'Fog'], ['119', 'Fog'], ['120', 'Sunny'], ['121', 'Sunny'], ['122', 'Fog'], ['123', 'Sunny'], ['124', 'Sunny'], ['125', 'Rain'], ['126', 'Rain'], ['127', 'Rain'], ['128', 'Sunny'], ['129', 'Thunderstorm'], ['130', 'Fog'], ['131', 'Sunny'], ['132', 'Fog'], ['133', 'Sunny'], ['134', 'Fog'], ['135', 'Fog'], ['136', 'Sunny'], ['137', 'Sunny'], ['138', 'Sunny'], ['139', 'Sunny'], ['140', 'Fog'], ['141', 'Fog'], ['142', 'Sunny'], ['143', 'Sunny'], ['144', 'Sunny'], ['145', 'Sunny'], ['146', 'Sunny'], ['147', 'Sunny'], ['148', 'Sunny'], ['149', 'Fog'], ['150', 'Fog'], ['151', 'Sunny'], ['152', 'Sunny'], ['153', 'Sunny'], ['154', 'Sunny'], ['155', 'Sunny'], ['156', 'Sunny'], ['157', 'Fog'], ['158', 'Fog'], ['159', 'Sunny'], ['160', 'Sunny'], ['161', 'Sunny'], ['162', 'Sunny'], ['163', 'Fog'], ['164', 'Fog'], ['165', 'Fog'], ['166', 'Sunny'], ['167', 'Sunny'], ['168', 'Fog'], ['169', 'Fog'], ['170', 'Fog'], ['171', 'Sunny'], ['172', 'Sunny'], ['173', 'Sunny'], ['174', 'Sunny'], ['175', 'Sunny'], ['176', 'Fog'], ['177', 'Fog'], ['178', 'Fog'], ['179', 'Fog'], ['180', 'Fog'], ['181', 'Sunny'], ['182', 'Fog'], ['183', 'Fog'], ['184', 'Fog'], ['185', 'Fog'], ['186', 'Sunny'], ['187', 'Sunny'], ['188', 'Sunny'], ['189', 'Sunny'], ['190', 'Fog'], ['191', 'Sunny'], ['192', 'Fog-Rain'], ['193', 'Fog'], ['194', 'Fog'], ['195', 'Sunny'], ['196', 'Fog'], ['197', 'Sunny'], ['198', 'Fog'], ['199', 'Fog'], ['200', 'Fog'], ['201', 'Sunny'], ['202', 'Rain'], ['203', 'Fog'], ['204', 'Fog'], ['205', 'Fog'], ['206', 'Fog'], ['207', 'Fog-Rain'], ['208', 'Sunny'], ['209', 'Sunny'], ['210', 'Fog'], ['211', 'Sunny'], ['212', 'Sunny'], ['213', 'Fog'], ['214', 'Fog'], ['215', 'Sunny'], ['216', 'Sunny'], ['217', 'Fog'], ['218', 'Fog'], ['219', 'Fog'], ['220', 'Sunny'], ['221', 'Sunny'], ['222', 'Sunny'], ['223', 'Sunny'], ['224', 'Fog'], ['225', 'Fog'], ['226', 'Fog'], ['227', 'Fog'], ['228', 'Fog'], ['229', 'Fog'], ['230', 'Fog'], ['231', 'Fog'], ['232', 'Fog'], ['233', 'Fog'], ['234', 'Sunny'], ['235', 'Fog'], ['236', 'Fog'], ['237', 'Fog'], ['238', 'Fog'], ['239', 'Sunny'], ['240', 'Fog'], ['241', 'Fog'], ['242', 'Fog'], ['243', 'Sunny'], ['244', 'Sunny'], ['245', 'Fog'], ['246', 'Sunny'], ['247', 'Fog'], ['248', 'Fog'], ['249', 'Sunny'], ['250', 'Sunny'], ['251', 'Fog'], ['252', 'Fog'], ['253', 'Fog'], ['254', 'Sunny'], ['255', 'Sunny'], ['256', 'Fog'], ['257', 'Fog'], ['258', 'Sunny'], ['259', 'Fog'], ['260', 'Fog'], ['261', 'Fog'], ['262', 'Fog'], ['263', 'Fog'], ['264', 'Sunny'], ['265', 'Sunny'], ['266', 'Sunny'], ['267', 'Fog'], ['268', 'Sunny'], ['269', 'Sunny'], ['270', 'Sunny'], ['271', 'Sunny'], ['272', 'Sunny'], ['273', 'Sunny'], ['274', 'Fog'], ['275', 'Sunny'], ['276', 'Fog'], ['277', 'Sunny'], ['278', 'Sunny'], ['279', 'Sunny'], ['280', 'Sunny'], ['281', 'Fog'], ['282', 'Rain'], ['283', 'Sunny'], ['284', 'Sunny'], ['285', 'Sunny'], ['286', 'Sunny'], ['287', 'Sunny'], ['288', 'Sunny'], ['289', 'Sunny'], ['290', 'Sunny'], ['291', 'Sunny'], ['292', 'Fog'], ['293', 'Fog'], ['294', 'Fog'], ['295', 'Fog'], ['296', 'Sunny'], ['297', 'Sunny'], ['298', 'Fog'], ['299', 'Fog'], ['300', 'Fog'], ['301', 'Sunny'], ['302', 'Sunny'], ['303', 'Sunny'], ['304', 'Sunny'], ['305', 'Sunny'], ['306', 'Sunny'], ['307', 'Sunny'], ['308', 'Sunny'], ['309', 'Fog'], ['310', 'Sunny'], ['311', 'Sunny'], ['312', 'Fog'], ['313', 'Fog'], ['314', 'Sunny'], ['315', 'Fog'], ['316', 'Fog'], ['317', 'Sunny'], ['318', 'Sunny'], ['319', 'Fog'], ['320', 'Sunny'], ['321', 'Sunny'], ['322', 'Fog'], ['323', 'Sunny'], ['324', 'Rain'], ['325', 'Rain'], ['326', 'Rain'], ['327', 'Sunny'], ['328', 'Sunny'], ['329', 'Sunny'], ['330', 'Sunny'], ['331', 'Sunny'], ['332', 'Sunny'], ['333', 'Rain'], ['334', 'Sunny'], ['335', 'Sunny'], ['336', 'Sunny'], ['337', 'Sunny'], ['338', 'Sunny'], ['339', 'Sunny'], ['340', 'Sunny'], ['341', 'Rain'], ['342', 'Sunny'], ['343', 'Sunny'], ['344', 'Sunny'], ['345', 'Sunny'], ['346', 'Fog'], ['347', 'Fog'], ['348', 'Sunny'], ['349', 'Sunny'], ['350', 'Sunny'], ['351', 'Sunny'], ['352', 'Sunny'], ['353', 'Rain'], ['354', 'Sunny'], ['355', 'Sunny'], ['356', 'Sunny'], ['357', 'Fog'], ['358', 'Sunny'], ['359', 'Sunny'], ['360', 'Sunny'], ['361', 'Sunny'], ['362', 'Sunny'], ['363', 'Fog'], ['364', 'Fog'], ['365', 'Fog']]\n"
     ]
    }
   ],
   "source": [
    "weather_data = []\n",
    "\n",
    "life = open(\"la_weather.csv\",\"r\")\n",
    "poop = life.read()\n",
    "rows = poop.split(\"\\n\")\n",
    "\n",
    "for row in rows:\n",
    "    new = row.split(\",\")\n",
    "    weather_data.append(new)\n",
    "    \n",
    "print(weather_data)"
   ]
  },
  {
   "cell_type": "markdown",
   "metadata": {},
   "source": [
    "#### Loop over each row in weather_data.\n",
    "#### Append the second item in each row to the weather list.\n",
    "#### When complete, weather should contain each value from the Type of Weather column."
   ]
  },
  {
   "cell_type": "code",
   "execution_count": 4,
   "metadata": {
    "collapsed": false
   },
   "outputs": [
    {
     "name": "stdout",
     "output_type": "stream",
     "text": [
      "['Type of Weather', 'Sunny', 'Sunny', 'Sunny', 'Sunny', 'Sunny', 'Rain', 'Sunny', 'Sunny', 'Fog', 'Rain', 'Sunny', 'Sunny', 'Sunny', 'Sunny', 'Sunny', 'Fog', 'Sunny', 'Sunny', 'Sunny', 'Sunny', 'Sunny', 'Sunny', 'Rain', 'Fog-Rain', 'Rain', 'Fog-Rain', 'Rain', 'Sunny', 'Sunny', 'Sunny', 'Sunny', 'Sunny', 'Rain', 'Sunny', 'Fog', 'Fog', 'Sunny', 'Sunny', 'Rain', 'Sunny', 'Sunny', 'Sunny', 'Sunny', 'Sunny', 'Fog', 'Sunny', 'Sunny', 'Fog', 'Sunny', 'Rain', 'Sunny', 'Sunny', 'Sunny', 'Sunny', 'Sunny', 'Sunny', 'Sunny', 'Sunny', 'Sunny', 'Sunny', 'Sunny', 'Rain', 'Fog', 'Fog', 'Sunny', 'Rain', 'Rain', 'Sunny', 'Sunny', 'Sunny', 'Fog', 'Fog', 'Fog', 'Fog', 'Fog', 'Sunny', 'Sunny', 'Sunny', 'Sunny', 'Sunny', 'Fog', 'Sunny', 'Sunny', 'Fog', 'Sunny', 'Fog', 'Fog', 'Fog', 'Fog', 'Rain', 'Sunny', 'Fog', 'Fog', 'Fog', 'Sunny', 'Sunny', 'Sunny', 'Sunny', 'Fog', 'Sunny', 'Sunny', 'Sunny', 'Sunny', 'Sunny', 'Rain', 'Sunny', 'Sunny', 'Sunny', 'Sunny', 'Fog', 'Fog', 'Fog', 'Sunny', 'Rain', 'Sunny', 'Sunny', 'Sunny', 'Fog', 'Fog', 'Sunny', 'Sunny', 'Fog', 'Sunny', 'Sunny', 'Rain', 'Rain', 'Rain', 'Sunny', 'Thunderstorm', 'Fog', 'Sunny', 'Fog', 'Sunny', 'Fog', 'Fog', 'Sunny', 'Sunny', 'Sunny', 'Sunny', 'Fog', 'Fog', 'Sunny', 'Sunny', 'Sunny', 'Sunny', 'Sunny', 'Sunny', 'Sunny', 'Fog', 'Fog', 'Sunny', 'Sunny', 'Sunny', 'Sunny', 'Sunny', 'Sunny', 'Fog', 'Fog', 'Sunny', 'Sunny', 'Sunny', 'Sunny', 'Fog', 'Fog', 'Fog', 'Sunny', 'Sunny', 'Fog', 'Fog', 'Fog', 'Sunny', 'Sunny', 'Sunny', 'Sunny', 'Sunny', 'Fog', 'Fog', 'Fog', 'Fog', 'Fog', 'Sunny', 'Fog', 'Fog', 'Fog', 'Fog', 'Sunny', 'Sunny', 'Sunny', 'Sunny', 'Fog', 'Sunny', 'Fog-Rain', 'Fog', 'Fog', 'Sunny', 'Fog', 'Sunny', 'Fog', 'Fog', 'Fog', 'Sunny', 'Rain', 'Fog', 'Fog', 'Fog', 'Fog', 'Fog-Rain', 'Sunny', 'Sunny', 'Fog', 'Sunny', 'Sunny', 'Fog', 'Fog', 'Sunny', 'Sunny', 'Fog', 'Fog', 'Fog', 'Sunny', 'Sunny', 'Sunny', 'Sunny', 'Fog', 'Fog', 'Fog', 'Fog', 'Fog', 'Fog', 'Fog', 'Fog', 'Fog', 'Fog', 'Sunny', 'Fog', 'Fog', 'Fog', 'Fog', 'Sunny', 'Fog', 'Fog', 'Fog', 'Sunny', 'Sunny', 'Fog', 'Sunny', 'Fog', 'Fog', 'Sunny', 'Sunny', 'Fog', 'Fog', 'Fog', 'Sunny', 'Sunny', 'Fog', 'Fog', 'Sunny', 'Fog', 'Fog', 'Fog', 'Fog', 'Fog', 'Sunny', 'Sunny', 'Sunny', 'Fog', 'Sunny', 'Sunny', 'Sunny', 'Sunny', 'Sunny', 'Sunny', 'Fog', 'Sunny', 'Fog', 'Sunny', 'Sunny', 'Sunny', 'Sunny', 'Fog', 'Rain', 'Sunny', 'Sunny', 'Sunny', 'Sunny', 'Sunny', 'Sunny', 'Sunny', 'Sunny', 'Sunny', 'Fog', 'Fog', 'Fog', 'Fog', 'Sunny', 'Sunny', 'Fog', 'Fog', 'Fog', 'Sunny', 'Sunny', 'Sunny', 'Sunny', 'Sunny', 'Sunny', 'Sunny', 'Sunny', 'Fog', 'Sunny', 'Sunny', 'Fog', 'Fog', 'Sunny', 'Fog', 'Fog', 'Sunny', 'Sunny', 'Fog', 'Sunny', 'Sunny', 'Fog', 'Sunny', 'Rain', 'Rain', 'Rain', 'Sunny', 'Sunny', 'Sunny', 'Sunny', 'Sunny', 'Sunny', 'Rain', 'Sunny', 'Sunny', 'Sunny', 'Sunny', 'Sunny', 'Sunny', 'Sunny', 'Rain', 'Sunny', 'Sunny', 'Sunny', 'Sunny', 'Fog', 'Fog', 'Sunny', 'Sunny', 'Sunny', 'Sunny', 'Sunny', 'Rain', 'Sunny', 'Sunny', 'Sunny', 'Fog', 'Sunny', 'Sunny', 'Sunny', 'Sunny', 'Sunny', 'Fog', 'Fog', 'Fog']\n"
     ]
    }
   ],
   "source": [
    "# weather_data has already been read in automatically to make things easier.\n",
    "weather = []\n",
    "\n",
    "for row in weather_data:\n",
    "    poop = row[1]\n",
    "    weather.append(poop)\n",
    "    \n",
    "print(weather)"
   ]
  },
  {
   "cell_type": "markdown",
   "metadata": {},
   "source": [
    "#### Count the number of items in weather. You can accomplish this by:\n",
    "    Looping over each element in weather.\n",
    "    Adding 1 to count for each element.\n",
    "#### When finished, count should equal the number of items in weather."
   ]
  },
  {
   "cell_type": "code",
   "execution_count": 5,
   "metadata": {
    "collapsed": false
   },
   "outputs": [
    {
     "name": "stdout",
     "output_type": "stream",
     "text": [
      "366\n"
     ]
    }
   ],
   "source": [
    "count = 0\n",
    "\n",
    "for poop in weather:\n",
    "    count += 1\n",
    "\n",
    "if(count == len(weather)):\n",
    "    print(count)"
   ]
  },
  {
   "cell_type": "markdown",
   "metadata": {},
   "source": [
    "#### Slice the weather list to remove the header.\n",
    "#### The slice should only remove the first element in the list.\n",
    "#### Assign the slice to new_weather."
   ]
  },
  {
   "cell_type": "code",
   "execution_count": 6,
   "metadata": {
    "collapsed": false
   },
   "outputs": [
    {
     "name": "stdout",
     "output_type": "stream",
     "text": [
      "['Sunny', 'Sunny', 'Sunny', 'Sunny', 'Sunny', 'Rain', 'Sunny', 'Sunny', 'Fog', 'Rain', 'Sunny', 'Sunny', 'Sunny', 'Sunny', 'Sunny', 'Fog', 'Sunny', 'Sunny', 'Sunny', 'Sunny', 'Sunny', 'Sunny', 'Rain', 'Fog-Rain', 'Rain', 'Fog-Rain', 'Rain', 'Sunny', 'Sunny', 'Sunny', 'Sunny', 'Sunny', 'Rain', 'Sunny', 'Fog', 'Fog', 'Sunny', 'Sunny', 'Rain', 'Sunny', 'Sunny', 'Sunny', 'Sunny', 'Sunny', 'Fog', 'Sunny', 'Sunny', 'Fog', 'Sunny', 'Rain', 'Sunny', 'Sunny', 'Sunny', 'Sunny', 'Sunny', 'Sunny', 'Sunny', 'Sunny', 'Sunny', 'Sunny', 'Sunny', 'Rain', 'Fog', 'Fog', 'Sunny', 'Rain', 'Rain', 'Sunny', 'Sunny', 'Sunny', 'Fog', 'Fog', 'Fog', 'Fog', 'Fog', 'Sunny', 'Sunny', 'Sunny', 'Sunny', 'Sunny', 'Fog', 'Sunny', 'Sunny', 'Fog', 'Sunny', 'Fog', 'Fog', 'Fog', 'Fog', 'Rain', 'Sunny', 'Fog', 'Fog', 'Fog', 'Sunny', 'Sunny', 'Sunny', 'Sunny', 'Fog', 'Sunny', 'Sunny', 'Sunny', 'Sunny', 'Sunny', 'Rain', 'Sunny', 'Sunny', 'Sunny', 'Sunny', 'Fog', 'Fog', 'Fog', 'Sunny', 'Rain', 'Sunny', 'Sunny', 'Sunny', 'Fog', 'Fog', 'Sunny', 'Sunny', 'Fog', 'Sunny', 'Sunny', 'Rain', 'Rain', 'Rain', 'Sunny', 'Thunderstorm', 'Fog', 'Sunny', 'Fog', 'Sunny', 'Fog', 'Fog', 'Sunny', 'Sunny', 'Sunny', 'Sunny', 'Fog', 'Fog', 'Sunny', 'Sunny', 'Sunny', 'Sunny', 'Sunny', 'Sunny', 'Sunny', 'Fog', 'Fog', 'Sunny', 'Sunny', 'Sunny', 'Sunny', 'Sunny', 'Sunny', 'Fog', 'Fog', 'Sunny', 'Sunny', 'Sunny', 'Sunny', 'Fog', 'Fog', 'Fog', 'Sunny', 'Sunny', 'Fog', 'Fog', 'Fog', 'Sunny', 'Sunny', 'Sunny', 'Sunny', 'Sunny', 'Fog', 'Fog', 'Fog', 'Fog', 'Fog', 'Sunny', 'Fog', 'Fog', 'Fog', 'Fog', 'Sunny', 'Sunny', 'Sunny', 'Sunny', 'Fog', 'Sunny', 'Fog-Rain', 'Fog', 'Fog', 'Sunny', 'Fog', 'Sunny', 'Fog', 'Fog', 'Fog', 'Sunny', 'Rain', 'Fog', 'Fog', 'Fog', 'Fog', 'Fog-Rain', 'Sunny', 'Sunny', 'Fog', 'Sunny', 'Sunny', 'Fog', 'Fog', 'Sunny', 'Sunny', 'Fog', 'Fog', 'Fog', 'Sunny', 'Sunny', 'Sunny', 'Sunny', 'Fog', 'Fog', 'Fog', 'Fog', 'Fog', 'Fog', 'Fog', 'Fog', 'Fog', 'Fog', 'Sunny', 'Fog', 'Fog', 'Fog', 'Fog', 'Sunny', 'Fog', 'Fog', 'Fog', 'Sunny', 'Sunny', 'Fog', 'Sunny', 'Fog', 'Fog', 'Sunny', 'Sunny', 'Fog', 'Fog', 'Fog', 'Sunny', 'Sunny', 'Fog', 'Fog', 'Sunny', 'Fog', 'Fog', 'Fog', 'Fog', 'Fog', 'Sunny', 'Sunny', 'Sunny', 'Fog', 'Sunny', 'Sunny', 'Sunny', 'Sunny', 'Sunny', 'Sunny', 'Fog', 'Sunny', 'Fog', 'Sunny', 'Sunny', 'Sunny', 'Sunny', 'Fog', 'Rain', 'Sunny', 'Sunny', 'Sunny', 'Sunny', 'Sunny', 'Sunny', 'Sunny', 'Sunny', 'Sunny', 'Fog', 'Fog', 'Fog', 'Fog', 'Sunny', 'Sunny', 'Fog', 'Fog', 'Fog', 'Sunny', 'Sunny', 'Sunny', 'Sunny', 'Sunny', 'Sunny', 'Sunny', 'Sunny', 'Fog', 'Sunny', 'Sunny', 'Fog', 'Fog', 'Sunny', 'Fog', 'Fog', 'Sunny', 'Sunny', 'Fog', 'Sunny', 'Sunny', 'Fog', 'Sunny', 'Rain', 'Rain', 'Rain', 'Sunny', 'Sunny', 'Sunny', 'Sunny', 'Sunny', 'Sunny', 'Rain', 'Sunny', 'Sunny', 'Sunny', 'Sunny', 'Sunny', 'Sunny', 'Sunny', 'Rain', 'Sunny', 'Sunny', 'Sunny', 'Sunny', 'Fog', 'Fog', 'Sunny', 'Sunny', 'Sunny', 'Sunny', 'Sunny', 'Rain', 'Sunny', 'Sunny', 'Sunny', 'Fog', 'Sunny', 'Sunny', 'Sunny', 'Sunny', 'Sunny', 'Fog', 'Fog', 'Fog']\n"
     ]
    }
   ],
   "source": [
    "#print(weather)\n",
    "new_weather = weather[1:366]\n",
    "print(new_weather)"
   ]
  },
  {
   "cell_type": "markdown",
   "metadata": {},
   "source": [
    "#### Use the in statement to check whether the value cat is in the list animals, and assign the result to cat_found.\n",
    "#### Use the in statement to check whether the value space_monster is in the list animals, and assign the result to space_monster_found."
   ]
  },
  {
   "cell_type": "code",
   "execution_count": 7,
   "metadata": {
    "collapsed": false
   },
   "outputs": [
    {
     "name": "stdout",
     "output_type": "stream",
     "text": [
      "True\n",
      "False\n"
     ]
    }
   ],
   "source": [
    "animals = [\"cat\", \"dog\", \"rabbit\", \"horse\", \"giant_horrible_monster\"]\n",
    "cat_found = \"cat\" in  animals\n",
    "space_monster_found = \"space_monster\" in animals\n",
    "\n",
    "print (cat_found)\n",
    "print (space_monster_found)"
   ]
  },
  {
   "cell_type": "markdown",
   "metadata": {},
   "source": [
    "#### Loop through each item in the weather_types list.\n",
    "#### Check whether the item occurs in the new_weather list.\n",
    "#### Append the result of the check to weather_type_found.\n",
    "#### At the end, weather_type_found should be a list of Boolean values."
   ]
  },
  {
   "cell_type": "code",
   "execution_count": 8,
   "metadata": {
    "collapsed": false
   },
   "outputs": [
    {
     "name": "stdout",
     "output_type": "stream",
     "text": [
      "[True, True, True, True, True, False]\n"
     ]
    }
   ],
   "source": [
    "weather_types = [\"Rain\", \"Sunny\", \"Fog\", \"Fog-Rain\", \"Thunderstorm\", \"Type of Weather\"]\n",
    "weather_type_found = []\n",
    "\n",
    "for wt in weather_types:\n",
    "    poop = wt in new_weather\n",
    "    weather_type_found.append(poop)\n",
    "\n",
    "print(weather_type_found)"
   ]
  },
  {
   "cell_type": "markdown",
   "metadata": {},
   "source": [
    "## THIS IS THE END 8-)"
   ]
  },
  {
   "cell_type": "code",
   "execution_count": null,
   "metadata": {
    "collapsed": true
   },
   "outputs": [],
   "source": []
  }
 ],
 "metadata": {
  "kernelspec": {
   "display_name": "Python 3",
   "language": "python",
   "name": "python3"
  },
  "language_info": {
   "codemirror_mode": {
    "name": "ipython",
    "version": 3
   },
   "file_extension": ".py",
   "mimetype": "text/x-python",
   "name": "python",
   "nbconvert_exporter": "python",
   "pygments_lexer": "ipython3",
   "version": "3.6.0"
  }
 },
 "nbformat": 4,
 "nbformat_minor": 2
}
