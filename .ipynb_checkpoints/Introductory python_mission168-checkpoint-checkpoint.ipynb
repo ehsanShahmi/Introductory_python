{
 "cells": [
  {
   "cell_type": "markdown",
   "metadata": {},
   "source": [
    "# Welcome \n",
    "\n",
    "This is mission 168 from dataquest : https://www.dataquest.io/mission/168/dictionaries"
   ]
  },
  {
   "cell_type": "markdown",
   "metadata": {},
   "source": [
    "#### Print the first element of weather.\n",
    "#### Print the last element of weather."
   ]
  },
  {
   "cell_type": "code",
   "execution_count": 3,
   "metadata": {
    "collapsed": false
   },
   "outputs": [
    {
     "name": "stdout",
     "output_type": "stream",
     "text": [
      "Sunny\n",
      "Fog\n"
     ]
    }
   ],
   "source": [
    "weather = ['Sunny', 'Sunny', 'Sunny', 'Sunny', 'Sunny', 'Rain', 'Sunny', 'Sunny', 'Fog', 'Rain', 'Sunny', 'Sunny', 'Sunny', 'Sunny', 'Sunny', 'Fog', 'Sunny', 'Sunny', 'Sunny', 'Sunny', 'Sunny', 'Sunny', 'Rain', 'Fog-Rain', 'Rain', 'Fog-Rain', 'Rain', 'Sunny', 'Sunny', 'Sunny', 'Sunny', 'Sunny', 'Rain', 'Sunny', 'Fog', 'Fog', 'Sunny', 'Sunny', 'Rain', 'Sunny', 'Sunny', 'Sunny', 'Sunny', 'Sunny', 'Fog', 'Sunny', 'Sunny', 'Fog', 'Sunny', 'Rain', 'Sunny', 'Sunny', 'Sunny', 'Sunny', 'Sunny', 'Sunny', 'Sunny', 'Sunny', 'Sunny', 'Sunny', 'Sunny', 'Rain', 'Fog', 'Fog', 'Sunny', 'Rain', 'Rain', 'Sunny', 'Sunny', 'Sunny', 'Fog', 'Fog', 'Fog', 'Fog', 'Fog', 'Sunny', 'Sunny', 'Sunny', 'Sunny', 'Sunny', 'Fog', 'Sunny', 'Sunny', 'Fog', 'Sunny', 'Fog', 'Fog', 'Fog', 'Fog', 'Rain', 'Sunny', 'Fog', 'Fog', 'Fog', 'Sunny', 'Sunny', 'Sunny', 'Sunny', 'Fog', 'Sunny', 'Sunny', 'Sunny', 'Sunny', 'Sunny', 'Rain', 'Sunny', 'Sunny', 'Sunny', 'Sunny', 'Fog', 'Fog', 'Fog', 'Sunny', 'Rain', 'Sunny', 'Sunny', 'Sunny', 'Fog', 'Fog', 'Sunny', 'Sunny', 'Fog', 'Sunny', 'Sunny', 'Rain', 'Rain', 'Rain', 'Sunny', 'Thunderstorm', 'Fog', 'Sunny', 'Fog', 'Sunny', 'Fog', 'Fog', 'Sunny', 'Sunny', 'Sunny', 'Sunny', 'Fog', 'Fog', 'Sunny', 'Sunny', 'Sunny', 'Sunny', 'Sunny', 'Sunny', 'Sunny', 'Fog', 'Fog', 'Sunny', 'Sunny', 'Sunny', 'Sunny', 'Sunny', 'Sunny', 'Fog', 'Fog', 'Sunny', 'Sunny', 'Sunny', 'Sunny', 'Fog', 'Fog', 'Fog', 'Sunny', 'Sunny', 'Fog', 'Fog', 'Fog', 'Sunny', 'Sunny', 'Sunny', 'Sunny', 'Sunny', 'Fog', 'Fog', 'Fog', 'Fog', 'Fog', 'Sunny', 'Fog', 'Fog', 'Fog', 'Fog', 'Sunny', 'Sunny', 'Sunny', 'Sunny', 'Fog', 'Sunny', 'Fog-Rain', 'Fog', 'Fog', 'Sunny', 'Fog', 'Sunny', 'Fog', 'Fog', 'Fog', 'Sunny', 'Rain', 'Fog', 'Fog', 'Fog', 'Fog', 'Fog-Rain', 'Sunny', 'Sunny', 'Fog', 'Sunny', 'Sunny', 'Fog', 'Fog', 'Sunny', 'Sunny', 'Fog', 'Fog', 'Fog', 'Sunny', 'Sunny', 'Sunny', 'Sunny', 'Fog', 'Fog', 'Fog', 'Fog', 'Fog', 'Fog', 'Fog', 'Fog', 'Fog', 'Fog', 'Sunny', 'Fog', 'Fog', 'Fog', 'Fog', 'Sunny', 'Fog', 'Fog', 'Fog', 'Sunny', 'Sunny', 'Fog', 'Sunny', 'Fog', 'Fog', 'Sunny', 'Sunny', 'Fog', 'Fog', 'Fog', 'Sunny', 'Sunny', 'Fog', 'Fog', 'Sunny', 'Fog', 'Fog', 'Fog', 'Fog', 'Fog', 'Sunny', 'Sunny', 'Sunny', 'Fog', 'Sunny', 'Sunny', 'Sunny', 'Sunny', 'Sunny', 'Sunny', 'Fog', 'Sunny', 'Fog', 'Sunny', 'Sunny', 'Sunny', 'Sunny', 'Fog', 'Rain', 'Sunny', 'Sunny', 'Sunny', 'Sunny', 'Sunny', 'Sunny', 'Sunny', 'Sunny', 'Sunny', 'Fog', 'Fog', 'Fog', 'Fog', 'Sunny', 'Sunny', 'Fog', 'Fog', 'Fog', 'Sunny', 'Sunny', 'Sunny', 'Sunny', 'Sunny', 'Sunny', 'Sunny', 'Sunny', 'Fog', 'Sunny', 'Sunny', 'Fog', 'Fog', 'Sunny', 'Fog', 'Fog', 'Sunny', 'Sunny', 'Fog', 'Sunny', 'Sunny', 'Fog', 'Sunny', 'Rain', 'Rain', 'Rain', 'Sunny', 'Sunny', 'Sunny', 'Sunny', 'Sunny', 'Sunny', 'Rain', 'Sunny', 'Sunny', 'Sunny', 'Sunny', 'Sunny', 'Sunny', 'Sunny', 'Rain', 'Sunny', 'Sunny', 'Sunny', 'Sunny', 'Fog', 'Fog', 'Sunny', 'Sunny', 'Sunny', 'Sunny', 'Sunny', 'Rain', 'Sunny', 'Sunny', 'Sunny', 'Fog', 'Sunny', 'Sunny', 'Sunny', 'Sunny', 'Sunny', 'Fog', 'Fog', 'Fog']\n",
    "\n",
    "print(weather[0])\n",
    "print(weather[len(weather)-1])"
   ]
  },
  {
   "cell_type": "markdown",
   "metadata": {},
   "source": [
    "#### Assign the value 1 to the key Aquaman in a new dictionary named superhero_ranks.\n",
    "#### Assign the value 2 to the key Superman in superhero_ranks."
   ]
  },
  {
   "cell_type": "code",
   "execution_count": 4,
   "metadata": {
    "collapsed": true
   },
   "outputs": [],
   "source": [
    "superhero_ranks = {}\n",
    "\n",
    "superhero_ranks [\"Aquaman\"] = 1\n",
    "superhero_ranks [\"Superman\"] = 2"
   ]
  },
  {
   "cell_type": "markdown",
   "metadata": {},
   "source": [
    "#### Look up FDR in president_ranks and assign the result to a new variable fdr_rank.\n",
    "#### Look up Lincoln in president_ranks and assign the result to a new variable lincoln_rank.\n",
    "#### Look up Aquaman in president_ranks and assign the result to a new variable aquaman_rank."
   ]
  },
  {
   "cell_type": "code",
   "execution_count": 5,
   "metadata": {
    "collapsed": true
   },
   "outputs": [],
   "source": [
    "president_ranks = {}\n",
    "president_ranks[\"FDR\"] = 1\n",
    "president_ranks[\"Lincoln\"] = 2\n",
    "president_ranks[\"Aquaman\"] = 3\n",
    "\n",
    "fdr_rank = president_ranks[\"FDR\"]\n",
    "lincoln_rank = president_ranks[\"Lincoln\"]\n",
    "aquaman_rank = president_ranks[\"Aquaman\"]"
   ]
  },
  {
   "cell_type": "markdown",
   "metadata": {},
   "source": [
    "#### Create a dictionary named animals with the following keys and values:\n",
    "    The key 7 corresponding to the value raven.\n",
    "    The key 8 corresponding to the value goose.\n",
    "    The key 9 corresponding to the value duck.\n",
    "#### Create a dictionary named times with the following keys and values:\n",
    "    The key morning corresponding to the value 9.\n",
    "    The key afternoon corresponding to the value 14.\n",
    "    The key evening corresponding to the value 19.\n",
    "    The key night corresponding to the value 23."
   ]
  },
  {
   "cell_type": "code",
   "execution_count": 6,
   "metadata": {
    "collapsed": false
   },
   "outputs": [
    {
     "name": "stdout",
     "output_type": "stream",
     "text": [
      "{'key1': 10, 'key2': 'indubitably', 'key3': 'dataquest', 3: 5.6}\n",
      "{7: 'raven', 8: 'goose', 9: 'duck'}\n",
      "{'morning': 9, 'afternoon': 14, 'evening': 19, 'night': 23}\n"
     ]
    }
   ],
   "source": [
    "random_values = {\"key1\": 10, \"key2\": \"indubitably\", \"key3\": \"dataquest\", 3: 5.6}\n",
    "print(random_values)\n",
    "\n",
    "animals = {7:\"raven\", 8:\"goose\", 9:\"duck\"}\n",
    "print(animals)\n",
    "\n",
    "times = {\"morning\":9, \"afternoon\":14, \"evening\":19, \"night\":23}\n",
    "print(times)"
   ]
  },
  {
   "cell_type": "markdown",
   "metadata": {},
   "source": [
    "#### Add the key Ann and value 85 to the dictionary students.\n",
    "#### Replace the value for the key Tom with 80.\n",
    "#### Add 5 to the value for the key Jim."
   ]
  },
  {
   "cell_type": "code",
   "execution_count": 7,
   "metadata": {
    "collapsed": true
   },
   "outputs": [],
   "source": [
    "students = {\n",
    "    \"Tom\": 60,\n",
    "    \"Jim\": 70\n",
    "}\n",
    "\n",
    "students [\"Ann\"] = 85\n",
    "\n",
    "students[\"Tom\"] = 80\n",
    "students[\"Jim\"] += 5"
   ]
  },
  {
   "cell_type": "markdown",
   "metadata": {},
   "source": [
    "#### Check whether jupiter is a key in planet_numbers, and assign the resulting Boolean value to jupiter_found.\n",
    "#### Check whether earth is a key in planet_numbers, and assign the resulting Boolean value to earth_found."
   ]
  },
  {
   "cell_type": "code",
   "execution_count": 8,
   "metadata": {
    "collapsed": false
   },
   "outputs": [
    {
     "name": "stdout",
     "output_type": "stream",
     "text": [
      "False\n",
      "True\n"
     ]
    }
   ],
   "source": [
    "planet_numbers = {\"mercury\": 1, \"venus\": 2, \"earth\": 3, \"mars\": 4}\n",
    "\n",
    "jupiter_found = \"jupiter\" in planet_numbers\n",
    "earth_found = \"earth\" in planet_numbers\n",
    "\n",
    "print(jupiter_found)\n",
    "print(earth_found)"
   ]
  },
  {
   "cell_type": "markdown",
   "metadata": {},
   "source": [
    "#### Append any names in planet_names that are longer than 5 characters to long_names. Otherwise, append the names to short_names. To accomplish this:\n",
    "    Loop through each item in planet_names.\n",
    "    Use the len() function to find the length of the item.\n",
    "    If the length is greater than 5, append the item to long_names.\n",
    "    Otherwise, append it to short_names.\n",
    "    When complete, short_names should contain any planet names less than 6 characters long, and long_names should contain any planet names 6 characters or longer."
   ]
  },
  {
   "cell_type": "code",
   "execution_count": 9,
   "metadata": {
    "collapsed": false
   },
   "outputs": [
    {
     "name": "stdout",
     "output_type": "stream",
     "text": [
      "['Mercury', 'Jupiter', 'Saturn', 'Neptune', 'Uranus']\n",
      "['Venus', 'Earth', 'Mars']\n"
     ]
    }
   ],
   "source": [
    "planet_names = [\"Mercury\", \"Venus\", \"Earth\", \"Mars\", \"Jupiter\", \"Saturn\", \"Neptune\", \"Uranus\"]\n",
    "short_names = []\n",
    "long_names = []\n",
    "\n",
    "for item in planet_names:\n",
    "    length = len(item)\n",
    "    if(length > 5):\n",
    "        long_names.append(item)\n",
    "    else:\n",
    "        short_names.append(item)\n",
    "        \n",
    "print(long_names)\n",
    "print(short_names)"
   ]
  },
  {
   "cell_type": "markdown",
   "metadata": {},
   "source": [
    "#### Count the number of times that each element occurs in the list named pantry that appears in the code block below. You'll need to:\n",
    "    Create an empty dictionary named pantry_counts.\n",
    "    Loop through each item in pantry.\n",
    "    If the item appears in pantry_counts, add 1 to the value in pantry_counts for the item's key.\n",
    "        Otherwise, add the item to pantry_counts as a key, with the value 1.\n",
    "    When finished, each item in pantry will have its own key in pantry_counts, and its value will be the number of times the item appears in pantry."
   ]
  },
  {
   "cell_type": "code",
   "execution_count": 10,
   "metadata": {
    "collapsed": false
   },
   "outputs": [
    {
     "name": "stdout",
     "output_type": "stream",
     "text": [
      "{'apple': 3, 'orange': 2, 'grape': 2, 'tomato': 1, 'potato': 1}\n"
     ]
    }
   ],
   "source": [
    "pantry = [\"apple\", \"orange\", \"grape\", \"apple\", \"orange\", \"apple\", \"tomato\", \"potato\", \"grape\"]\n",
    "\n",
    "pantry_counts = {}\n",
    "\n",
    "for item in pantry:\n",
    "    if( (item in pantry_counts) == True ):\n",
    "        pantry_counts[item] += 1\n",
    "    else:\n",
    "        pantry_counts[item] = 1\n",
    "        \n",
    "print(pantry_counts)\n",
    "            "
   ]
  },
  {
   "cell_type": "markdown",
   "metadata": {},
   "source": [
    "#### Count how many times each type of weather occurs in the weather list, and store the results in a new dictionary called weather_counts.\n",
    "#### When finished, weather_counts should contain a key for each different type of weather in the weather list, along with its associated frequency. Here's a preview of how the result should format the weather_counts dictionary "
   ]
  },
  {
   "cell_type": "code",
   "execution_count": 11,
   "metadata": {
    "collapsed": false
   },
   "outputs": [
    {
     "name": "stdout",
     "output_type": "stream",
     "text": [
      "{'Sunny': 210, 'Rain': 25, 'Fog': 125, 'Fog-Rain': 4, 'Thunderstorm': 1}\n"
     ]
    }
   ],
   "source": [
    "weather_counts = {}\n",
    "\n",
    "for poop in weather:\n",
    "    if( (poop in weather_counts) == True ):\n",
    "        weather_counts[poop] += 1\n",
    "    else:\n",
    "        weather_counts[poop] = 1\n",
    "    \n",
    "print(weather_counts)"
   ]
  },
  {
   "cell_type": "markdown",
   "metadata": {},
   "source": [
    "# THIS IS THE END 8-)"
   ]
  },
  {
   "cell_type": "code",
   "execution_count": null,
   "metadata": {
    "collapsed": true
   },
   "outputs": [],
   "source": []
  }
 ],
 "metadata": {
  "kernelspec": {
   "display_name": "Python 3",
   "language": "python",
   "name": "python3"
  },
  "language_info": {
   "codemirror_mode": {
    "name": "ipython",
    "version": 3
   },
   "file_extension": ".py",
   "mimetype": "text/x-python",
   "name": "python",
   "nbconvert_exporter": "python",
   "pygments_lexer": "ipython3",
   "version": "3.6.0"
  }
 },
 "nbformat": 4,
 "nbformat_minor": 2
}
