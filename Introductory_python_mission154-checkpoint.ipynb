{
 "cells": [
  {
   "cell_type": "markdown",
   "metadata": {},
   "source": [
    "# Welcome \n",
    "\n",
    "This is mission 154 from dataquest : https://www.dataquest.io/mission/154/booleans-and-if-statements"
   ]
  },
  {
   "cell_type": "markdown",
   "metadata": {
    "collapsed": true
   },
   "source": [
    "#### Assign the value True to the variable cat, and the value False to the variable dog.\n",
    "#### Then, use the print() function and the type() function to display the type for cat."
   ]
  },
  {
   "cell_type": "code",
   "execution_count": 1,
   "metadata": {
    "collapsed": false
   },
   "outputs": [
    {
     "name": "stdout",
     "output_type": "stream",
     "text": [
      "<class 'bool'>\n"
     ]
    }
   ],
   "source": [
    "cat = True\n",
    "dog = False\n",
    "\n",
    "print(type(cat))"
   ]
  },
  {
   "cell_type": "markdown",
   "metadata": {},
   "source": [
    "#### Use the Boolean operators to determine if the following pairs of values are equivalent:\n",
    "    The first element in cities and the string \"Albuquerque\". Assign the resulting Boolean value to first_alb.\n",
    "    The second element in cities and the string \"Albuquerque\". Assign the resulting Boolean value to second_alb.\n",
    "    The first element in cities and the last element in cities. Assign the resulting Boolean value to first_last."
   ]
  },
  {
   "cell_type": "code",
   "execution_count": 4,
   "metadata": {
    "collapsed": false
   },
   "outputs": [
    {
     "name": "stdout",
     "output_type": "stream",
     "text": [
      "['Albuquerque', 'Anaheim', 'Anchorage', 'Arlington', 'Atlanta', 'Aurora', 'Austin', 'Bakersfield', 'Baltimore', 'Boston', 'Buffalo', 'Charlotte-Mecklenburg', 'Cincinnati', 'Cleveland', 'Colorado Springs', 'Corpus Christi', 'Dallas', 'Denver', 'Detroit', 'El Paso', 'Fort Wayne', 'Fort Worth', 'Fresno', 'Greensboro', 'Henderson', 'Houston', 'Indianapolis', 'Jacksonville', 'Jersey City', 'Kansas City', 'Las Vegas', 'Lexington', 'Lincoln', 'Long Beach', 'Los Angeles', 'Louisville Metro', 'Memphis', 'Mesa', 'Miami', 'Milwaukee', 'Minneapolis', 'Mobile', 'Nashville', 'New Orleans', 'New York', 'Newark', 'Oakland', 'Oklahoma City', 'Omaha', 'Philadelphia', 'Phoenix', 'Pittsburgh', 'Plano', 'Portland', 'Raleigh', 'Riverside', 'Sacramento', 'San Antonio', 'San Diego', 'San Francisco', 'San Jose', 'Santa Ana', 'Seattle', 'St. Louis', 'St. Paul', 'Stockton', 'Tampa', 'Toledo', 'Tucson', 'Tulsa', 'Virginia Beach', 'Washington', 'Wichita']\n",
      "True\n",
      "False\n",
      "False\n"
     ]
    }
   ],
   "source": [
    "f = open('crime_rates.csv', 'r')\n",
    "data = f.read()\n",
    "rows = data.split('\\n')\n",
    "cities = []\n",
    "for row in rows:\n",
    "    values = row.split(',')\n",
    "    crime_rate = str(values[0])\n",
    "    cities.append(crime_rate)\n",
    "print(cities)\n",
    "\n",
    "first_alb = (cities[0] == \"Albuquerque\")\n",
    "print(first_alb)\n",
    "\n",
    "second_alb = (cities[1] == \"Albuquerque\")\n",
    "print(second_alb)\n",
    "\n",
    "first_last = (cities[0] == cities[len(cities)-1])\n",
    "print(first_last)"
   ]
  },
  {
   "cell_type": "markdown",
   "metadata": {},
   "source": [
    "#### The variable crime_rates is a list of integers containing the crime rates from the dataset. Perform the following comparisons:\n",
    "    Evaluate whether the first element in crime_rates is larger than the integer 500, and assign the Boolean result to first_500.\n",
    "    Evaluate whether the first element in crime_rates is larger than or equal to 749, and assign the Boolean result to first_749.\n",
    "    Evaluate whether the first element in crime_rates is greater than or equal to the last element in crime_rates, and assign the Boolean result to first_last."
   ]
  },
  {
   "cell_type": "code",
   "execution_count": 6,
   "metadata": {
    "collapsed": false
   },
   "outputs": [
    {
     "name": "stdout",
     "output_type": "stream",
     "text": [
      "[749, 371, 828, 503, 1379, 425, 408, 542, 1405, 835, 1288, 647, 974, 1383, 455, 658, 675, 615, 2122, 423, 362, 587, 543, 563, 168, 992, 1185, 617, 734, 1263, 784, 352, 397, 575, 481, 598, 1750, 399, 1172, 1294, 992, 522, 1216, 815, 639, 1154, 1993, 919, 594, 1160, 636, 752, 130, 517, 423, 443, 738, 503, 413, 704, 363, 401, 597, 1776, 722, 1548, 616, 1171, 724, 990, 169, 1177, 742]\n",
      "True\n",
      "True\n",
      "True\n"
     ]
    }
   ],
   "source": [
    "f = open('crime_rates.csv', 'r')\n",
    "data = f.read()\n",
    "rows = data.split('\\n')\n",
    "crime_rates = []\n",
    "for row in rows:\n",
    "    values = row.split(',')\n",
    "    crime_rate = int(values[1])\n",
    "    crime_rates.append(crime_rate)\n",
    "print(crime_rates)\n",
    "\n",
    "first_500 = ( crime_rates[0] > 500 )\n",
    "print(first_500)\n",
    "\n",
    "first_749 = ( crime_rates[0] >= 749 )\n",
    "print(first_749)\n",
    "\n",
    "first_last = ( crime_rates[0] >= crime_rates[len(crime_rates)-1] )\n",
    "print(first_last)"
   ]
  },
  {
   "cell_type": "markdown",
   "metadata": {},
   "source": [
    "#### The variable crime_rates is a list containing the crime rates from the dataset as integers. Perform the following comparisons:\n",
    "    Determine whether the second element in crime_rates is smaller than the integer 500, and assign the Boolean result to second_500.\n",
    "    Determine whether the second element in crime_rates is smaller than or equal to 371, and assign the Boolean result to second_371.\n",
    "    Determine whether the second element in crime_rates is smaller than or equal to the last element in crime_rates, and assign the Boolean result to second_last."
   ]
  },
  {
   "cell_type": "code",
   "execution_count": 7,
   "metadata": {
    "collapsed": false
   },
   "outputs": [
    {
     "name": "stdout",
     "output_type": "stream",
     "text": [
      "[749, 371, 828, 503, 1379, 425, 408, 542, 1405, 835, 1288, 647, 974, 1383, 455, 658, 675, 615, 2122, 423, 362, 587, 543, 563, 168, 992, 1185, 617, 734, 1263, 784, 352, 397, 575, 481, 598, 1750, 399, 1172, 1294, 992, 522, 1216, 815, 639, 1154, 1993, 919, 594, 1160, 636, 752, 130, 517, 423, 443, 738, 503, 413, 704, 363, 401, 597, 1776, 722, 1548, 616, 1171, 724, 990, 169, 1177, 742]\n",
      "True\n",
      "True\n",
      "True\n"
     ]
    }
   ],
   "source": [
    "print(crime_rates)\n",
    "\n",
    "second_500 = ( crime_rates[1] < 500 )\n",
    "print(second_500)\n",
    "\n",
    "second_371 = ( crime_rates[1] <= 371 )\n",
    "print(second_371)\n",
    "\n",
    "second_last = ( crime_rates[1] <= crime_rates[len(crime_rates)-1] )\n",
    "print(second_last)"
   ]
  },
  {
   "cell_type": "markdown",
   "metadata": {},
   "source": [
    "#### Determine whether the third element in cities is equivalent to the string \"Anchorage\".\n",
    "    If it is, change the variable result to 1."
   ]
  },
  {
   "cell_type": "code",
   "execution_count": 8,
   "metadata": {
    "collapsed": false
   },
   "outputs": [
    {
     "name": "stdout",
     "output_type": "stream",
     "text": [
      "1\n"
     ]
    }
   ],
   "source": [
    "result = 0\n",
    "\n",
    "if(cities[2] == \"Anchorage\"):\n",
    "    result = 1\n",
    "\n",
    "    print(result)"
   ]
  },
  {
   "cell_type": "markdown",
   "metadata": {},
   "source": [
    "#### Write a piece of code that nests the following concepts in the order in which they appear:\n",
    "    An if statement that tests whether the first element in crime_rates is larger than 500\n",
    "    A second if statement that tests whether the second element in crime_rates is larger than 300\n",
    "    If both statements evaluate to True, assign the value True to the variable both_conditions\n"
   ]
  },
  {
   "cell_type": "code",
   "execution_count": 9,
   "metadata": {
    "collapsed": false
   },
   "outputs": [
    {
     "name": "stdout",
     "output_type": "stream",
     "text": [
      "True\n"
     ]
    }
   ],
   "source": [
    "both_conditions = False\n",
    "\n",
    "if(crime_rates[0] > 500):\n",
    "    if(crime_rates[1] > 300):\n",
    "        both_conditions = True\n",
    "\n",
    "print(both_conditions)"
   ]
  },
  {
   "cell_type": "markdown",
   "metadata": {},
   "source": [
    "#### Create a new list, five_hundred_list, that contains only the elements from crime_rates that are greater than 500. To accomplish this, you'll need a for loop and an if statement:\n",
    "    The for loop specifies which list we want to iterate over and the name of the iterator variable (we use cr in our answer).\n",
    "    The if statement determines whether the current element (cr) is larger than 500.\n",
    "        If the current element (cr) is larger than 500, use the append() method to add it to five_hundred_list."
   ]
  },
  {
   "cell_type": "code",
   "execution_count": 10,
   "metadata": {
    "collapsed": false
   },
   "outputs": [
    {
     "name": "stdout",
     "output_type": "stream",
     "text": [
      "[749, 828, 503, 1379, 542, 1405, 835, 1288, 647, 974, 1383, 658, 675, 615, 2122, 587, 543, 563, 992, 1185, 617, 734, 1263, 784, 575, 598, 1750, 1172, 1294, 992, 522, 1216, 815, 639, 1154, 1993, 919, 594, 1160, 636, 752, 517, 738, 503, 704, 597, 1776, 722, 1548, 616, 1171, 724, 990, 1177, 742]\n"
     ]
    }
   ],
   "source": [
    "five_hundred_list = []\n",
    "\n",
    "for cr in crime_rates:\n",
    "    if(cr > 500):\n",
    "        five_hundred_list.append(cr)\n",
    "        \n",
    "print(five_hundred_list)"
   ]
  },
  {
   "cell_type": "markdown",
   "metadata": {},
   "source": [
    "#### Find the largest integer in crime_rates using the strategy we just outlined, and assign that value to the variable highest."
   ]
  },
  {
   "cell_type": "code",
   "execution_count": 11,
   "metadata": {
    "collapsed": false
   },
   "outputs": [
    {
     "name": "stdout",
     "output_type": "stream",
     "text": [
      "[749, 371, 828, 503, 1379, 425, 408, 542, 1405, 835, 1288, 647, 974, 1383, 455, 658, 675, 615, 2122, 423, 362, 587, 543, 563, 168, 992, 1185, 617, 734, 1263, 784, 352, 397, 575, 481, 598, 1750, 399, 1172, 1294, 992, 522, 1216, 815, 639, 1154, 1993, 919, 594, 1160, 636, 752, 130, 517, 423, 443, 738, 503, 413, 704, 363, 401, 597, 1776, 722, 1548, 616, 1171, 724, 990, 169, 1177, 742]\n",
      "2122\n"
     ]
    }
   ],
   "source": [
    "print(crime_rates)\n",
    "\n",
    "highest = crime_rates[0]\n",
    "\n",
    "for poop in crime_rates:\n",
    "    if(poop > highest):\n",
    "        highest = poop\n",
    "\n",
    "print(highest)"
   ]
  },
  {
   "cell_type": "markdown",
   "metadata": {},
   "source": [
    "\n",
    "## THE FINISH OF THIS MISSION 8-)"
   ]
  },
  {
   "cell_type": "code",
   "execution_count": null,
   "metadata": {
    "collapsed": true
   },
   "outputs": [],
   "source": []
  }
 ],
 "metadata": {
  "kernelspec": {
   "display_name": "Python 3",
   "language": "python",
   "name": "python3"
  },
  "language_info": {
   "codemirror_mode": {
    "name": "ipython",
    "version": 3
   },
   "file_extension": ".py",
   "mimetype": "text/x-python",
   "name": "python",
   "nbconvert_exporter": "python",
   "pygments_lexer": "ipython3",
   "version": "3.6.0"
  }
 },
 "nbformat": 4,
 "nbformat_minor": 2
}
