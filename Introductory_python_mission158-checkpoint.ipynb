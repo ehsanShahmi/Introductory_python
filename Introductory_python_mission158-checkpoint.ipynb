{
 "cells": [
  {
   "cell_type": "markdown",
   "metadata": {},
   "source": [
    "# Welcome \n",
    "\n",
    "This is mission 158 from dataquest : https://www.dataquest.io/mission/158/challenge-files-loops-and-conditional-logic"
   ]
  },
  {
   "cell_type": "markdown",
   "metadata": {
    "collapsed": true
   },
   "source": [
    "#### Use the open() function with the following parameters to return a File object: \n",
    "    dq_unisex_names.csv for the file name\n",
    "    r for read mode\n",
    "#### Then, use the read() method of the File object to read the file into a string.\n",
    "#### Assign that string to a variable named names."
   ]
  },
  {
   "cell_type": "code",
   "execution_count": 1,
   "metadata": {
    "collapsed": true
   },
   "outputs": [],
   "source": [
    "reading = open(\"dq_unisex_names.csv\",\"r\");\n",
    "names = reading.read()"
   ]
  },
  {
   "cell_type": "markdown",
   "metadata": {},
   "source": [
    "#### Use the split() method that strings have to split on the new-line delimiter (\"\\n\"), and assign the resulting list to names_list.\n",
    "#### Select the first five elements in names_list, and assign them to first_five.\n",
    "#### Display first_five using the print() function."
   ]
  },
  {
   "cell_type": "code",
   "execution_count": 3,
   "metadata": {
    "collapsed": false
   },
   "outputs": [
    {
     "name": "stdout",
     "output_type": "stream",
     "text": [
      "['Casey,176544.328149', 'Riley,154860.66517300002', 'Jessie,136381.830656', 'Jackie,132928.78874000002', 'Avery,121797.41951600001']\n"
     ]
    }
   ],
   "source": [
    " f= open('dq_unisex_names.csv', 'r')\n",
    "names = f.read()\n",
    "\n",
    "names_list = names.split(\"\\n\")\n",
    "\n",
    "first_five = names_list[0:5]\n",
    "\n",
    "#print(names_list)\n",
    "print(first_five)"
   ]
  },
  {
   "cell_type": "markdown",
   "metadata": {},
   "source": [
    "#### Split each element in names_list on the comma delimiter (,) and append the resulting list to nested_list. To accomplish this:\n",
    "    Create an empty list and assign it to nested_list.\n",
    "    Write a for loop that iterates over names_list.\n",
    "    Within the loop body, run the split() method on each element to return a list (assign that list to comma_list).\n",
    "    Within the loop body, run the append() method to add each list (comma_list) to nested_list.\n",
    "#### Use the print() function to display the first five elements in nested_list."
   ]
  },
  {
   "cell_type": "code",
   "execution_count": 4,
   "metadata": {
    "collapsed": false
   },
   "outputs": [
    {
     "name": "stdout",
     "output_type": "stream",
     "text": [
      "[['Casey', '176544.328149'], ['Riley', '154860.66517300002'], ['Jessie', '136381.830656'], ['Jackie', '132928.78874000002'], ['Avery', '121797.41951600001']]\n"
     ]
    }
   ],
   "source": [
    "f = open('dq_unisex_names.csv', 'r')\n",
    "names = f.read()\n",
    "names_list = names.split('\\n')\n",
    "\n",
    "nested_list = []\n",
    "comma_list = []\n",
    "\n",
    "for itr in names_list:\n",
    "    comma_list = itr.split(\",\")\n",
    "    nested_list.append(comma_list)\n",
    "    \n",
    "print(nested_list[0:5])"
   ]
  },
  {
   "cell_type": "markdown",
   "metadata": {},
   "source": [
    "#### Create a new list of lists called numerical_list where:\n",
    "    The element at index 0 for each list is the unisex name (as a string)\n",
    "    The element at index 1 for each list is the number of people who share that name (as a float)\n",
    "#### To accomplish this:\n",
    "    Create an empty list and assign it to numerical_list.\n",
    "    Write a for loop that iterates over nested_list. In the loop body:\n",
    "        Retrieve the element at index 0 and assign it to a variable.\n",
    "        Retrieve the element at index 1, convert it to a float, and assign it to a variable.\n",
    "        Create a new list containing these two elements (in the same order).\n",
    "        Use the append() method to add this new list to numerical_list.\n",
    "#### Finally, display the first five elements in numerical_list."
   ]
  },
  {
   "cell_type": "code",
   "execution_count": 5,
   "metadata": {
    "collapsed": false
   },
   "outputs": [
    {
     "name": "stdout",
     "output_type": "stream",
     "text": [
      "[['Casey', '176544.328149'], ['Riley', '154860.66517300002'], ['Jessie', '136381.830656'], ['Jackie', '132928.78874000002'], ['Avery', '121797.41951600001']]\n",
      "[['Casey', 176544.328149], ['Riley', 154860.66517300002], ['Jessie', 136381.830656], ['Jackie', 132928.78874000002], ['Avery', 121797.41951600001]]\n"
     ]
    }
   ],
   "source": [
    "print(nested_list[0:5])\n",
    "\n",
    "numerical_list = []\n",
    "\n",
    "for itr in nested_list:\n",
    "    unisex_name = itr[0]\n",
    "    numerical_value = float(itr[1])\n",
    "    new_list = [unisex_name, numerical_value]\n",
    "    numerical_list.append(new_list)\n",
    "    \n",
    "print(numerical_list[0:5])    "
   ]
  },
  {
   "cell_type": "markdown",
   "metadata": {},
   "source": [
    "#### Create a new list of strings called thousand_or_greater that only contains the names shared by 1,000 people or more.\n",
    "#### To accomplish this:\n",
    "    Create an empty list and assign it to thousand_or_greater.\n",
    "    Write a for loop that iterates over numerical_list.\n",
    "    In the loop body, use an if statement to determine if the value at index 1 for that element (which is a list) is greater than or equal to 1000.\n",
    "    If the value is greater than or equal to 1000, use the append() method to add its name to thousand_or_greater.\n",
    "#### Finally, display the first 10 elements in thousand_or_greater."
   ]
  },
  {
   "cell_type": "code",
   "execution_count": 6,
   "metadata": {
    "collapsed": false
   },
   "outputs": [
    {
     "name": "stdout",
     "output_type": "stream",
     "text": [
      "['Casey', 'Riley', 'Jessie', 'Jackie', 'Avery', 'Jaime', 'Peyton']\n"
     ]
    }
   ],
   "source": [
    "# The last value is ~100 people\n",
    "numerical_list[len(numerical_list)-1]\n",
    "\n",
    "thousand_or_greater = []\n",
    "\n",
    "for itr in numerical_list:\n",
    "    if (itr[1] >= 1000):\n",
    "        thousand_or_greater.append(itr[0])\n",
    "        \n",
    "print(thousand_or_greater[0:10])"
   ]
  },
  {
   "cell_type": "markdown",
   "metadata": {},
   "source": [
    "## THIS IS THE END 8-)"
   ]
  },
  {
   "cell_type": "code",
   "execution_count": null,
   "metadata": {
    "collapsed": true
   },
   "outputs": [],
   "source": []
  }
 ],
 "metadata": {
  "kernelspec": {
   "display_name": "Python 3",
   "language": "python",
   "name": "python3"
  },
  "language_info": {
   "codemirror_mode": {
    "name": "ipython",
    "version": 3
   },
   "file_extension": ".py",
   "mimetype": "text/x-python",
   "name": "python",
   "nbconvert_exporter": "python",
   "pygments_lexer": "ipython3",
   "version": "3.6.0"
  }
 },
 "nbformat": 4,
 "nbformat_minor": 2
}
