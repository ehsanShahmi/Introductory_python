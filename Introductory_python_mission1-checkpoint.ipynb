{
 "cells": [
  {
   "cell_type": "markdown",
   "metadata": {},
   "source": [
    "# Welcome \n",
    "\n",
    "This is mission 1 from dataquest : \n",
    "https://www.dataquest.io/mission/1/python-basics"
   ]
  },
  {
   "cell_type": "code",
   "execution_count": 3,
   "metadata": {
    "collapsed": false
   },
   "outputs": [
    {
     "name": "stdout",
     "output_type": "stream",
     "text": [
      "3.6.0 |Anaconda 4.3.1 (64-bit)| (default, Dec 23 2016, 11:57:41) [MSC v.1900 64 bit (AMD64)]\n"
     ]
    }
   ],
   "source": [
    "import sys\n",
    "print(sys.version)"
   ]
  },
  {
   "cell_type": "markdown",
   "metadata": {
    "collapsed": true
   },
   "source": [
    "#### Add a line of code that assigns the value 123 to the variable china.\n",
    "\n",
    "#### Add a line of code that assigns the value 124 to the variable india.\n",
    "\n",
    "#### Add a line of code that assigns the value 134 to the variable united_states."
   ]
  },
  {
   "cell_type": "code",
   "execution_count": 1,
   "metadata": {
    "collapsed": true
   },
   "outputs": [],
   "source": [
    "england = 135\n",
    "china = 123\n",
    "india = 124\n",
    "united_states = 134"
   ]
  },
  {
   "cell_type": "markdown",
   "metadata": {},
   "source": [
    "#### Add a line of code that uses the print() function to display the value associated with china.\n",
    "\n",
    "#### Add a line of code that uses the print() function to display the value associated with india.\n",
    "\n",
    "#### Add a line of code that uses the print() function to display the value associated with united_states."
   ]
  },
  {
   "cell_type": "code",
   "execution_count": 2,
   "metadata": {
    "collapsed": false
   },
   "outputs": [
    {
     "name": "stdout",
     "output_type": "stream",
     "text": [
      "123\n",
      "124\n",
      "134\n"
     ]
    }
   ],
   "source": [
    "china = 123\n",
    "print(china)\n",
    "\n",
    "india = 124\n",
    "print(india)\n",
    "\n",
    "united_states = 134\n",
    "print(united_states)"
   ]
  },
  {
   "cell_type": "markdown",
   "metadata": {},
   "source": [
    "#### Assign the string value \"China\" to china_name.\n",
    "\n",
    "#### Assign the integer value 123 to china_rounded. This is the rounded value for the hottest temperature) ever recorded in China.\n",
    "\n",
    "#### Assign the float value 122.5 to china_exact. This is the exact value for the hottest temperature ever recorded in China.\n",
    "\n",
    "#### Use the print() function to display china_name, china_rounded, and china_exact.\n",
    "    \n",
    "    ##### Note that we're really asking you to display the values associated with these variables but we'll stick to ths shorter wording from now on."
   ]
  },
  {
   "cell_type": "code",
   "execution_count": 3,
   "metadata": {
    "collapsed": false
   },
   "outputs": [
    {
     "name": "stdout",
     "output_type": "stream",
     "text": [
      "China\n",
      "123\n",
      "122.5\n"
     ]
    }
   ],
   "source": [
    "china_name = \"China\"\n",
    "china_rounded = 123\n",
    "china_exact = 122.5\n",
    "\n",
    "print(china_name)\n",
    "print(china_rounded)\n",
    "print(china_exact)"
   ]
  },
  {
   "cell_type": "markdown",
   "metadata": {},
   "source": [
    "#### Display the type for the value associated with china_exact."
   ]
  },
  {
   "cell_type": "code",
   "execution_count": 4,
   "metadata": {
    "collapsed": false
   },
   "outputs": [
    {
     "name": "stdout",
     "output_type": "stream",
     "text": [
      "<class 'float'>\n"
     ]
    }
   ],
   "source": [
    "china_name = \"China\"\n",
    "china_exact = 122.5\n",
    "print(type(china_exact))"
   ]
  },
  {
   "cell_type": "markdown",
   "metadata": {},
   "source": [
    "#### Convert china_rounded to a string and assign to int_to_str.\n",
    "#### Then, convert int_to_str to an integer and assign the result to str_to_int."
   ]
  },
  {
   "cell_type": "code",
   "execution_count": 5,
   "metadata": {
    "collapsed": false
   },
   "outputs": [
    {
     "name": "stdout",
     "output_type": "stream",
     "text": [
      "123\n",
      "123\n"
     ]
    }
   ],
   "source": [
    "china_rounded = 123\n",
    "int_to_str = str(china_rounded)\n",
    "\n",
    "str_to_int = int(int_to_str)\n",
    "\n",
    "print(int_to_str)\n",
    "print(str_to_int)"
   ]
  },
  {
   "cell_type": "markdown",
   "metadata": {},
   "source": [
    "#### Before each assignment statement, add a single-line comment of your choosing."
   ]
  },
  {
   "cell_type": "code",
   "execution_count": 6,
   "metadata": {
    "collapsed": true
   },
   "outputs": [],
   "source": [
    "# poop is nyc\n",
    "china = 123\n",
    "# poop is usually brown\n",
    "india = 124\n",
    "# poop can be of many types\n",
    "united_states = 134"
   ]
  },
  {
   "cell_type": "markdown",
   "metadata": {},
   "source": [
    "#### Add the integer value 10 to china and assign the resulting value to the new variable china_plus_10.\n",
    "#### Multiply united_states by 100 and assign the resulting value to the new variable us_times_100.3.\n",
    "#### Display the variables china_plus_10 and us_times_100 using the print() function."
   ]
  },
  {
   "cell_type": "code",
   "execution_count": 7,
   "metadata": {
    "collapsed": false
   },
   "outputs": [
    {
     "name": "stdout",
     "output_type": "stream",
     "text": [
      "133\n",
      "13400\n"
     ]
    }
   ],
   "source": [
    "china_plus_10 = china + 10\n",
    "\n",
    "us_times_100 = united_states * 100\n",
    "\n",
    "print(china_plus_10)\n",
    "print(us_times_100)"
   ]
  },
  {
   "cell_type": "markdown",
   "metadata": {},
   "source": [
    "#### Subtract 32 from china, multiply the result by the float 0.56, and assign the final result to china_celsius\n",
    "#### Subtract 32 from india, multiply the result by the float 0.56, and assign the final result to india_celsius.\n",
    "#### Subtract 32 from united_states, multiply the result by the float 0.56, and assign the final result to us_celsius."
   ]
  },
  {
   "cell_type": "code",
   "execution_count": 10,
   "metadata": {
    "collapsed": false
   },
   "outputs": [
    {
     "name": "stdout",
     "output_type": "stream",
     "text": [
      "50.96000000000001 51.52 57.120000000000005\n"
     ]
    }
   ],
   "source": [
    "china = 123\n",
    "india = 124\n",
    "united_states = 134\n",
    "\n",
    "china_celsius = (china - 32) * 0.56\n",
    "\n",
    "india_celsius = (india - 32) * 0.56\n",
    "\n",
    "us_celsius = (united_states - 32) * 0.56\n",
    "\n",
    "print(china_celsius, india_celsius, us_celsius)"
   ]
  },
  {
   "cell_type": "markdown",
   "metadata": {},
   "source": [
    "#### Get familiar with the console by:\n",
    "    Dividing 5 by 10.\n",
    "    Assigning the value 103 to the variable indonesia then displaying indonesia."
   ]
  },
  {
   "cell_type": "code",
   "execution_count": 12,
   "metadata": {
    "collapsed": false
   },
   "outputs": [
    {
     "data": {
      "text/plain": [
       "0.5"
      ]
     },
     "execution_count": 12,
     "metadata": {},
     "output_type": "execute_result"
    }
   ],
   "source": [
    "5 / 10"
   ]
  },
  {
   "cell_type": "code",
   "execution_count": 13,
   "metadata": {
    "collapsed": false
   },
   "outputs": [
    {
     "data": {
      "text/plain": [
       "103"
      ]
     },
     "execution_count": 13,
     "metadata": {},
     "output_type": "execute_result"
    }
   ],
   "source": [
    "indonesia = 103\n",
    "indonesia"
   ]
  },
  {
   "cell_type": "markdown",
   "metadata": {},
   "source": [
    "#### Create two empty lists, countries and temperatures.\n",
    "#### Add the following strings to the list countries, in the following order:\n",
    "    \"China\".\n",
    "    \"India\".\n",
    "    \"United States\".\n",
    "#### Add the following float values to the list temperatures, in the following order:\n",
    "    122.5.\n",
    "    124.0.\n",
    "    134.1.\n",
    "#### Use the variables display or the print() function to display the lists. "
   ]
  },
  {
   "cell_type": "code",
   "execution_count": 15,
   "metadata": {
    "collapsed": false
   },
   "outputs": [
    {
     "name": "stdout",
     "output_type": "stream",
     "text": [
      "['China', 'India', 'United States']\n",
      "[122.5, 124.0, 134.1]\n"
     ]
    }
   ],
   "source": [
    "countries = []\n",
    "temperatures = []\n",
    "\n",
    "countries.append(\"China\")\n",
    "countries.append(\"India\")\n",
    "countries.append(\"United States\")\n",
    "\n",
    "temperatures.append(122.5)\n",
    "temperatures.append(124.0)\n",
    "temperatures.append(134.1)\n",
    "\n",
    "print(countries)\n",
    "print(temperatures)"
   ]
  },
  {
   "cell_type": "markdown",
   "metadata": {},
   "source": [
    "#### Create and populate the list temps with the following values in a single line of code, in the following order:\n",
    "    \"China\".\n",
    "    122.5.\n",
    "    \"India\".\n",
    "    124.0.\n",
    "    \"United States\".\n",
    "    134.1."
   ]
  },
  {
   "cell_type": "code",
   "execution_count": 16,
   "metadata": {
    "collapsed": false
   },
   "outputs": [
    {
     "name": "stdout",
     "output_type": "stream",
     "text": [
      "['China', 122.5, 'India', 124.0, 'United States', 134.1]\n"
     ]
    }
   ],
   "source": [
    "temps = [\"China\", 122.5, \"India\", 124.0, \"United States\", 134.1]\n",
    "print (temps)"
   ]
  },
  {
   "cell_type": "markdown",
   "metadata": {},
   "source": [
    "#### Select the first element from the list countries and assign to the new variable china.\n",
    "#### Select the first element from the list temperatures and assign to the new variable china_temperature."
   ]
  },
  {
   "cell_type": "code",
   "execution_count": 17,
   "metadata": {
    "collapsed": false
   },
   "outputs": [
    {
     "name": "stdout",
     "output_type": "stream",
     "text": [
      "China 122.5\n"
     ]
    }
   ],
   "source": [
    "countries = []\n",
    "temperatures = []\n",
    "\n",
    "countries.append(\"China\")\n",
    "countries.append(\"India\")\n",
    "countries.append(\"United States\")\n",
    "\n",
    "temperatures.append(122.5)\n",
    "temperatures.append(124.0)\n",
    "temperatures.append(134.1)\n",
    "\n",
    "# Add your code here.\n",
    "china = countries[0]\n",
    "china_temperature = temperatures[0]\n",
    "\n",
    "print(china, china_temperature)"
   ]
  },
  {
   "cell_type": "markdown",
   "metadata": {},
   "source": [
    "#### Add the lengths of the countries and temperatures list objects and assign the sum to two_sum."
   ]
  },
  {
   "cell_type": "code",
   "execution_count": 18,
   "metadata": {
    "collapsed": false
   },
   "outputs": [
    {
     "name": "stdout",
     "output_type": "stream",
     "text": [
      "12\n"
     ]
    }
   ],
   "source": [
    "countries = [\"China\", \"India\", \"United States\", \"Indonesia\", \"Brazil\", \"Pakistan\"]\n",
    "temperatures = [122.5, 124.0, 134.1, 103.1, 112.5, 128.3]\n",
    "\n",
    "two_sum = len(countries) + len(temperatures)\n",
    "\n",
    "print(two_sum)"
   ]
  },
  {
   "cell_type": "markdown",
   "metadata": {},
   "source": [
    "#### Select the second, third, and fourth elements from countries and assign the resulting list to countries_slice.\n",
    "#### Select the last three elements in temperatures and assign to temperatures_slice."
   ]
  },
  {
   "cell_type": "code",
   "execution_count": 19,
   "metadata": {
    "collapsed": false
   },
   "outputs": [
    {
     "name": "stdout",
     "output_type": "stream",
     "text": [
      "['India', 'United States', 'Indonesia']\n",
      "[103.1, 112.5, 128.3]\n"
     ]
    }
   ],
   "source": [
    "countries = [\"China\", \"India\", \"United States\", \"Indonesia\", \"Brazil\", \"Pakistan\"]\n",
    "temperatures = [122.5, 124.0, 134.1, 103.1, 112.5, 128.3]\n",
    "\n",
    "countries_slice = countries[1:4]\n",
    "print(countries_slice)\n",
    "\n",
    "temperatures_slice = temperatures[len(temperatures)-3:len(temperatures)]\n",
    "print(temperatures_slice)"
   ]
  },
  {
   "cell_type": "markdown",
   "metadata": {},
   "source": [
    "### THE FINISH OF THIS MISSION 8-)"
   ]
  },
  {
   "cell_type": "code",
   "execution_count": null,
   "metadata": {
    "collapsed": true
   },
   "outputs": [],
   "source": []
  }
 ],
 "metadata": {
  "kernelspec": {
   "display_name": "Python 3",
   "language": "python",
   "name": "python3"
  },
  "language_info": {
   "codemirror_mode": {
    "name": "ipython",
    "version": 3
   },
   "file_extension": ".py",
   "mimetype": "text/x-python",
   "name": "python",
   "nbconvert_exporter": "python",
   "pygments_lexer": "ipython3",
   "version": "3.6.0"
  }
 },
 "nbformat": 4,
 "nbformat_minor": 2
}
